{
 "cells": [
  {
   "cell_type": "code",
   "execution_count": 9,
   "id": "bd278d6b",
   "metadata": {},
   "outputs": [],
   "source": [
    "import numpy as np\n",
    "import sklearn.gaussian_process.kernels as kernels\n",
    "import kolesky\n",
    "import scipy\n",
    "import scipy.sparse as sparse\n",
    "from copy import deepcopy\n",
    "\n",
    "from kolesky.ordering import p_reverse_maximin\n",
    "from kolesky.ordering import sparsity_pattern\n",
    "from kolesky.nugget import ichol\n",
    "from kolesky.nugget import parallel_ichol"
   ]
  },
  {
   "cell_type": "code",
   "execution_count": 2,
   "id": "418aa86e",
   "metadata": {},
   "outputs": [],
   "source": [
    "def logdet_chol(A):\n",
    "    return 2 * np.sum(np.log(A.diagonal()))\n",
    "\n",
    "def kl_div(A, B):\n",
    "    n = A.shape[0]\n",
    "    return 0.5 * (np.trace(np.linalg.solve(B, A)) - n + np.linalg.slogdet(B)[1] - np.linalg.slogdet(A)[1])\n",
    "\n",
    "def sparse_kl_div(A, L):\n",
    "    n = A.shape[0]\n",
    "    return 0.5 * (-logdet_chol(L) - np.linalg.slogdet(A)[1])"
   ]
  },
  {
   "cell_type": "code",
   "execution_count": 32,
   "id": "d00c0816",
   "metadata": {},
   "outputs": [],
   "source": [
    "np.random.seed(0)\n",
    "n = 75\n",
    "points = np.zeros((n * n, 2))\n",
    "for i in range(n):\n",
    "    for j in range(n):\n",
    "        perturbation = np.random.uniform(-0.2, 0.2, 2)\n",
    "        points[i * n + j] = np.array([i - n/2, j - n/2]) + perturbation\n",
    "noise = np.eye(len(points)) * 0.3"
   ]
  },
  {
   "cell_type": "code",
   "execution_count": 13,
   "id": "5bf282c3",
   "metadata": {},
   "outputs": [],
   "source": [
    "def __supernodes(sparsity, lengths, lamb):\n",
    "    groups = []\n",
    "    candidates = set(range(len(lengths)))\n",
    "    agg_sparsity = {}\n",
    "    i = 0\n",
    "    while len(candidates) > 0:\n",
    "        while i not in candidates:\n",
    "            i += 1\n",
    "        group = sorted(j for j in sparsity[i] if lengths[j] <= lamb * lengths[i] and j in candidates)\n",
    "        groups.append(group)\n",
    "        candidates -= set(group)\n",
    "        s = sorted({k for j in group for k in sparsity[j]})\n",
    "        agg_sparsity[group[0]] = s\n",
    "        positions = {k: j for j, k in enumerate(s)}\n",
    "        for j in group[1:]:\n",
    "            agg_sparsity[j] = np.empty(len(s) - positions[j], dtype=int)\n",
    "    return groups, agg_sparsity\n",
    "\n",
    "def __cols(theta):\n",
    "    return np.flip(np.linalg.cholesky(np.flip(theta))).T\n",
    "\n",
    "def __aggregate_chol(points, kernel, sparsity, groups):\n",
    "    n = len(points)\n",
    "    ptr = np.cumsum([0] + [len(sparsity[i]) for i in range(n)])\n",
    "    data, indices = np.zeros(ptr[-1]), np.zeros(ptr[-1])\n",
    "    for group in groups:\n",
    "        s = sorted(sparsity[group[0]])\n",
    "        positions = {i: k for k, i in enumerate(s)}\n",
    "        L_group = __cols(kernel(points[s]))\n",
    "        for i in group:\n",
    "            k = positions[i]\n",
    "            e_k = np.zeros(len(s))\n",
    "            e_k[k] = 1\n",
    "            col = scipy.linalg.solve_triangular(L_group, e_k, lower=True, check_finite=False)\n",
    "            data[ptr[i] : ptr[i + 1]] = col[k:]\n",
    "            indices[ptr[i] : ptr[i + 1]] = s[k:]\n",
    "    return sparse.csc_matrix((data, indices, ptr), shape=(n, n))\n",
    "\n",
    "def innerprod(iter1, u1, iter2, u2, indices, data):\n",
    "    prod = 0\n",
    "    while iter1 <= u1 and iter2 <= u2:\n",
    "        while iter1 <= u1 and iter2 <= u2 and indices[iter1] == indices[iter2]:\n",
    "            prod += data[iter1] * data[iter2]\n",
    "            iter1 += 1\n",
    "            iter2 += 1\n",
    "        if indices[iter1] < indices[iter2]:\n",
    "            iter1 += 1\n",
    "        else:\n",
    "            iter2 += 1\n",
    "    return prod\n",
    "\n",
    "def py_ichol(A):\n",
    "    indptr = A.indptr #ind\n",
    "    indices = A.indices #jnd\n",
    "    data = A.data\n",
    "    for i in range(len(indptr) - 1):\n",
    "        for j in range(indptr[i], indptr[i + 1]):\n",
    "            iter_i = indptr[i]\n",
    "            iter_j = indptr[indices[j]]\n",
    "            data[j] -= innerprod(iter_i, indptr[i + 1] - 2, iter_j, indptr[indices[j] + 1] - 2, indices, data)\n",
    "            if data[indptr[indices[j] + 1] - 1] > 0:\n",
    "                if indices[j] < i:\n",
    "                    data[j] /= data[indptr[indices[j] + 1] - 1]\n",
    "                    if np.isnan(data[j]) or np.isinf(data[j]):\n",
    "                        print(\"nan or inf\")\n",
    "                else:\n",
    "                    if j != indptr[i + 1] - 1:\n",
    "                        print(\"not diagonal\")\n",
    "                    data[j] = np.sqrt(data[j])\n",
    "            else:\n",
    "                data[j] = 0"
   ]
  },
  {
   "cell_type": "code",
   "execution_count": 29,
   "id": "5f9ec572",
   "metadata": {},
   "outputs": [],
   "source": [
    "def py_noise_cholesky(points, kernel, rho, lamb, noise, initial = None, p = 1):\n",
    "    n = len(points)\n",
    "    indices, lengths = p_reverse_maximin(points, initial, p)\n",
    "    ordered_points = points[indices]\n",
    "    sparsity = sparsity_pattern(ordered_points, lengths, rho)\n",
    "    groups, agg_sparsity = __supernodes(sparsity, lengths, lamb)\n",
    "    L = __aggregate_chol(ordered_points, kernel, agg_sparsity, groups)\n",
    "    A = sparse.triu(L @ L.T, format='csc')\n",
    "    A += sparse.csc_matrix(np.linalg.inv(noise))\n",
    "    # U = deepcopy(A)\n",
    "    # parallel_ichol(A.indptr, A.indices, A.data, U.data, sweeps=5)\n",
    "    # ichol(U.indptr, U.indices, U.data)\n",
    "    py_ichol(A)\n",
    "    return L, A, indices\n",
    "\n",
    "def noise_cholesky(points, kernel, rho, lamb, noise, initial = None, p = 1):\n",
    "    n = len(points)\n",
    "    indices, lengths = p_reverse_maximin(points, initial, p)\n",
    "    ordered_points = points[indices]\n",
    "    sparsity = sparsity_pattern(ordered_points, lengths, rho)\n",
    "    groups, agg_sparsity = __supernodes(sparsity, lengths, lamb)\n",
    "    L = __aggregate_chol(ordered_points, kernel, agg_sparsity, groups)\n",
    "    A = sparse.triu(L @ L.T, format='csc')\n",
    "    A += sparse.csc_matrix(np.linalg.inv(noise))\n",
    "    # U = deepcopy(A)\n",
    "    # parallel_ichol(A.indptr, A.indices, A.data, U.data, sweeps=5)\n",
    "    ichol(A.indptr, A.indices, A.data)\n",
    "    # py_ichol(A)\n",
    "    return L, A, indices\n",
    "\n",
    "def parallel_noise_cholesky(points, kernel, rho, lamb, noise, initial = None, p = 1, sweeps=5):\n",
    "    n = len(points)\n",
    "    indices, lengths = p_reverse_maximin(points, initial, p)\n",
    "    ordered_points = points[indices]\n",
    "    sparsity = sparsity_pattern(ordered_points, lengths, rho)\n",
    "    groups, agg_sparsity = __supernodes(sparsity, lengths, lamb)\n",
    "    L = __aggregate_chol(ordered_points, kernel, agg_sparsity, groups)\n",
    "    A = sparse.triu(L @ L.T, format='csc')\n",
    "    A += sparse.csc_matrix(np.linalg.inv(noise))\n",
    "    U = deepcopy(A)\n",
    "    parallel_ichol(A.indptr, A.indices, A.data, U.data, sweeps=sweeps)\n",
    "    # ichol(A.indptr, A.indices, A.data)\n",
    "    # py_ichol(A)\n",
    "    return L, U, indices"
   ]
  },
  {
   "cell_type": "code",
   "execution_count": 15,
   "id": "3e3cfba0",
   "metadata": {},
   "outputs": [],
   "source": [
    "kernel = kernels.Matern(length_scale=1.0, nu=0.5)\n",
    "rho = 4.0\n",
    "lamb = 1.5"
   ]
  },
  {
   "cell_type": "code",
   "execution_count": 20,
   "id": "95070498",
   "metadata": {},
   "outputs": [
    {
     "name": "stderr",
     "output_type": "stream",
     "text": [
      "/tmp/ipykernel_7739/1092571473.py:3: DeprecationWarning: `np.long` is a deprecated alias for `np.compat.long`. To silence this warning, use `np.compat.long` by itself. In the likely event your code does not need to work on Python 2 you can use the builtin `int` for which `np.compat.long` is itself an alias. Doing this will not modify any behaviour and is safe. When replacing `np.long`, you may wish to use e.g. `np.int64` or `np.int32` to specify the precision. If you wish to review your current use, check the release note link for additional information.\n",
      "Deprecated in NumPy 1.20; for more details and guidance: https://numpy.org/devdocs/release/1.20.0-notes.html#deprecations\n",
      "  indices, lengths = p_reverse_maximin(points, initial, p)\n",
      "/tmp/ipykernel_7739/1092571473.py:18: DeprecationWarning: `np.long` is a deprecated alias for `np.compat.long`. To silence this warning, use `np.compat.long` by itself. In the likely event your code does not need to work on Python 2 you can use the builtin `int` for which `np.compat.long` is itself an alias. Doing this will not modify any behaviour and is safe. When replacing `np.long`, you may wish to use e.g. `np.int64` or `np.int32` to specify the precision. If you wish to review your current use, check the release note link for additional information.\n",
      "Deprecated in NumPy 1.20; for more details and guidance: https://numpy.org/devdocs/release/1.20.0-notes.html#deprecations\n",
      "  indices, lengths = p_reverse_maximin(points, initial, p)\n"
     ]
    },
    {
     "name": "stdout",
     "output_type": "stream",
     "text": [
      "KL divergence: 6.691487264731677e-06\n",
      "KL divergence: 6.691487264731677e-06\n"
     ]
    },
    {
     "name": "stderr",
     "output_type": "stream",
     "text": [
      "/tmp/ipykernel_7739/1092571473.py:33: DeprecationWarning: `np.long` is a deprecated alias for `np.compat.long`. To silence this warning, use `np.compat.long` by itself. In the likely event your code does not need to work on Python 2 you can use the builtin `int` for which `np.compat.long` is itself an alias. Doing this will not modify any behaviour and is safe. When replacing `np.long`, you may wish to use e.g. `np.int64` or `np.int32` to specify the precision. If you wish to review your current use, check the release note link for additional information.\n",
      "Deprecated in NumPy 1.20; for more details and guidance: https://numpy.org/devdocs/release/1.20.0-notes.html#deprecations\n",
      "  indices, lengths = p_reverse_maximin(points, initial, p)\n"
     ]
    },
    {
     "name": "stdout",
     "output_type": "stream",
     "text": [
      "KL divergence: 6.69173566958392e-06\n"
     ]
    }
   ],
   "source": [
    "L, U_tilde, ordering = py_noise_cholesky(points, kernel, rho, lamb, noise)\n",
    "L = L.toarray()\n",
    "ordered_points = points[ordering]\n",
    "true = kernel(ordered_points) + noise\n",
    "approx = np.linalg.inv(L @ L.T) @ U_tilde.T @ U_tilde @ noise\n",
    "kl = kl_div(true, approx)\n",
    "print(\"KL divergence:\", kl)\n",
    "L, U_tilde, ordering = noise_cholesky(points, kernel, rho, lamb, noise)\n",
    "L = L.toarray()\n",
    "approx = np.linalg.inv(L @ L.T) @ U_tilde.T @ U_tilde @ noise\n",
    "kl = kl_div(true, approx)\n",
    "print(\"KL divergence:\", kl)\n",
    "L, U_tilde, ordering = parallel_noise_cholesky(points, kernel, rho, lamb, noise)\n",
    "L = L.toarray()\n",
    "approx = np.linalg.inv(L @ L.T) @ U_tilde.T @ U_tilde @ noise\n",
    "kl = kl_div(true, approx)\n",
    "print(\"KL divergence:\", kl)"
   ]
  },
  {
   "cell_type": "code",
   "execution_count": 21,
   "id": "6ee258b8",
   "metadata": {},
   "outputs": [
    {
     "name": "stderr",
     "output_type": "stream",
     "text": [
      "/tmp/ipykernel_7739/1092571473.py:3: DeprecationWarning: `np.long` is a deprecated alias for `np.compat.long`. To silence this warning, use `np.compat.long` by itself. In the likely event your code does not need to work on Python 2 you can use the builtin `int` for which `np.compat.long` is itself an alias. Doing this will not modify any behaviour and is safe. When replacing `np.long`, you may wish to use e.g. `np.int64` or `np.int32` to specify the precision. If you wish to review your current use, check the release note link for additional information.\n",
      "Deprecated in NumPy 1.20; for more details and guidance: https://numpy.org/devdocs/release/1.20.0-notes.html#deprecations\n",
      "  indices, lengths = p_reverse_maximin(points, initial, p)\n"
     ]
    },
    {
     "name": "stdout",
     "output_type": "stream",
     "text": [
      "187 ms ± 7.97 ms per loop (mean ± std. dev. of 7 runs, 10 loops each)\n"
     ]
    }
   ],
   "source": [
    "%timeit py_noise_cholesky(points, kernel, rho, lamb, noise)"
   ]
  },
  {
   "cell_type": "code",
   "execution_count": 33,
   "id": "131eec58",
   "metadata": {},
   "outputs": [
    {
     "name": "stderr",
     "output_type": "stream",
     "text": [
      "/tmp/ipykernel_7739/8132028.py:18: DeprecationWarning: `np.long` is a deprecated alias for `np.compat.long`. To silence this warning, use `np.compat.long` by itself. In the likely event your code does not need to work on Python 2 you can use the builtin `int` for which `np.compat.long` is itself an alias. Doing this will not modify any behaviour and is safe. When replacing `np.long`, you may wish to use e.g. `np.int64` or `np.int32` to specify the precision. If you wish to review your current use, check the release note link for additional information.\n",
      "Deprecated in NumPy 1.20; for more details and guidance: https://numpy.org/devdocs/release/1.20.0-notes.html#deprecations\n",
      "  indices, lengths = p_reverse_maximin(points, initial, p)\n"
     ]
    },
    {
     "name": "stdout",
     "output_type": "stream",
     "text": [
      "5.91 s ± 338 ms per loop (mean ± std. dev. of 7 runs, 1 loop each)\n"
     ]
    }
   ],
   "source": [
    "%timeit noise_cholesky(points, kernel, rho, lamb, noise)"
   ]
  },
  {
   "cell_type": "code",
   "execution_count": 34,
   "id": "a63cd430",
   "metadata": {},
   "outputs": [
    {
     "name": "stderr",
     "output_type": "stream",
     "text": [
      "/tmp/ipykernel_7739/8132028.py:33: DeprecationWarning: `np.long` is a deprecated alias for `np.compat.long`. To silence this warning, use `np.compat.long` by itself. In the likely event your code does not need to work on Python 2 you can use the builtin `int` for which `np.compat.long` is itself an alias. Doing this will not modify any behaviour and is safe. When replacing `np.long`, you may wish to use e.g. `np.int64` or `np.int32` to specify the precision. If you wish to review your current use, check the release note link for additional information.\n",
      "Deprecated in NumPy 1.20; for more details and guidance: https://numpy.org/devdocs/release/1.20.0-notes.html#deprecations\n",
      "  indices, lengths = p_reverse_maximin(points, initial, p)\n"
     ]
    },
    {
     "name": "stdout",
     "output_type": "stream",
     "text": [
      "6.57 s ± 363 ms per loop (mean ± std. dev. of 7 runs, 1 loop each)\n"
     ]
    }
   ],
   "source": [
    "%timeit parallel_noise_cholesky(points, kernel, rho, lamb, noise, sweeps=5)"
   ]
  }
 ],
 "metadata": {
  "kernelspec": {
   "display_name": "Python 3",
   "language": "python",
   "name": "python3"
  },
  "language_info": {
   "codemirror_mode": {
    "name": "ipython",
    "version": 3
   },
   "file_extension": ".py",
   "mimetype": "text/x-python",
   "name": "python",
   "nbconvert_exporter": "python",
   "pygments_lexer": "ipython3",
   "version": "3.10.8"
  }
 },
 "nbformat": 4,
 "nbformat_minor": 5
}
